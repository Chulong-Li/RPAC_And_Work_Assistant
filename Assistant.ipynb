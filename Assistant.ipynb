{
 "cells": [
  {
   "cell_type": "code",
   "execution_count": 9,
   "metadata": {},
   "outputs": [],
   "source": [
    "import json\n",
    "import ibm_watson\n",
    "from ibm_watson import AssistantV1\n",
    "import numpy as np\n",
    "import pandas as pd"
   ]
  },
  {
   "cell_type": "code",
   "execution_count": 6,
   "metadata": {},
   "outputs": [
    {
     "name": "stdout",
     "output_type": "stream",
     "text": [
      "{\n",
      "  \"workspaces\": [\n",
      "    {\n",
      "      \"name\": \"Fun game\",\n",
      "      \"language\": \"en\",\n",
      "      \"metadata\": {\n",
      "        \"api_version\": {\n",
      "          \"major_version\": \"v1\",\n",
      "          \"minor_version\": \"2019-02-28\"\n",
      "        }\n",
      "      },\n",
      "      \"description\": \"\",\n",
      "      \"workspace_id\": \"9d194dab-39bd-44d1-b6f8-1f05ef5a4edc\",\n",
      "      \"system_settings\": {\n",
      "        \"tooling\": {\n",
      "          \"store_generic_responses\": true\n",
      "        }\n",
      "      },\n",
      "      \"learning_opt_out\": false\n",
      "    },\n",
      "    {\n",
      "      \"name\": \"RPAC\",\n",
      "      \"language\": \"en\",\n",
      "      \"metadata\": {\n",
      "        \"api_version\": {\n",
      "          \"major_version\": \"v1\",\n",
      "          \"minor_version\": \"2019-02-28\"\n",
      "        }\n",
      "      },\n",
      "      \"description\": \"\",\n",
      "      \"workspace_id\": \"39ad1c75-4ad0-4048-b5a3-ce07240fb471\",\n",
      "      \"system_settings\": {\n",
      "        \"tooling\": {\n",
      "          \"store_generic_responses\": true\n",
      "        },\n",
      "        \"spelling_auto_correct\": true\n",
      "      },\n",
      "      \"learning_opt_out\": false\n",
      "    }\n",
      "  ],\n",
      "  \"pagination\": {\n",
      "    \"refresh_url\": \"/v1/workspaces?version=2019-05-20\"\n",
      "  }\n",
      "}\n"
     ]
    }
   ],
   "source": [
    "\n",
    "\n",
    "service=ibm_watson.AssistantV1(\n",
    "    version='2019-05-20',\n",
    "    iam_apikey='U-3rEEX7HUmUklltEJc3VkGIBbIk_MMQ-DhBnoKYFV9I',\n",
    "    url='https://gateway.watsonplatform.net/assistant/api'\n",
    ")\n",
    "\n",
    "assistant = AssistantV1(\n",
    "    version='2019-05-20',\n",
    "    iam_apikey='U-3rEEX7HUmUklltEJc3VkGIBbIk_MMQ-DhBnoKYFV9I',\n",
    "    url='https://gateway.watsonplatform.net/assistant/api'\n",
    ")\n",
    "\n",
    "\n",
    "response=service.list_workspaces().get_result()\n",
    "\n",
    "print(json.dumps(response, indent=2))"
   ]
  },
  {
   "cell_type": "code",
   "execution_count": 13,
   "metadata": {},
   "outputs": [
    {
     "name": "stdout",
     "output_type": "stream",
     "text": [
      "{\n",
      "  \"intents\": [\n",
      "    {\n",
      "      \"intent\": \"welcome\",\n",
      "      \"confidence\": 0.26528318846714\n",
      "    }\n",
      "  ],\n",
      "  \"entities\": [],\n",
      "  \"input\": {\n",
      "    \"text\": \"Hello\"\n",
      "  },\n",
      "  \"output\": {\n",
      "    \"generic\": [\n",
      "      {\n",
      "        \"response_type\": \"text\",\n",
      "        \"text\": \"Hello here! I can provide some basic info about RPAC\"\n",
      "      }\n",
      "    ],\n",
      "    \"text\": [\n",
      "      \"Hello here! I can provide some basic info about RPAC\"\n",
      "    ],\n",
      "    \"nodes_visited\": [\n",
      "      \"Welcome\"\n",
      "    ],\n",
      "    \"log_messages\": []\n",
      "  },\n",
      "  \"context\": {\n",
      "    \"conversation_id\": \"26f68eda-c6e5-459d-a184-5243f3455ef1\",\n",
      "    \"system\": {\n",
      "      \"initialized\": true,\n",
      "      \"dialog_stack\": [\n",
      "        {\n",
      "          \"dialog_node\": \"root\"\n",
      "        }\n",
      "      ],\n",
      "      \"dialog_turn_counter\": 1,\n",
      "      \"dialog_request_counter\": 1,\n",
      "      \"_node_output_map\": {\n",
      "        \"Welcome\": {\n",
      "          \"0\": [\n",
      "            0\n",
      "          ]\n",
      "        }\n",
      "      },\n",
      "      \"branch_exited\": true,\n",
      "      \"branch_exited_reason\": \"completed\"\n",
      "    }\n",
      "  }\n",
      "}\n"
     ]
    }
   ],
   "source": [
    "workspace_id = '39ad1c75-4ad0-4048-b5a3-ce07240fb471'\n",
    "response = assistant.message(\n",
    "    workspace_id=workspace_id,\n",
    "    input={\n",
    "        'text': 'Hello'\n",
    "    }\n",
    ").get_result()\n",
    "\n",
    "print(json.dumps(response, indent=2))"
   ]
  },
  {
   "cell_type": "code",
   "execution_count": 21,
   "metadata": {},
   "outputs": [
    {
     "name": "stdout",
     "output_type": "stream",
     "text": [
      "Hello here! I can provide some basic info about RPAC\n"
     ]
    }
   ],
   "source": [
    "print(response['output']['text'][0])"
   ]
  },
  {
   "cell_type": "code",
   "execution_count": 23,
   "metadata": {},
   "outputs": [
    {
     "ename": "ApiException",
     "evalue": "Error: Unique Violation: The value \"deadlift\" already exists, Code: 400 , X-global-transaction-id: 7ecac92c5ce4610536167909",
     "output_type": "error",
     "traceback": [
      "\u001b[0;31m---------------------------------------------------------------------------\u001b[0m",
      "\u001b[0;31mApiException\u001b[0m                              Traceback (most recent call last)",
      "\u001b[0;32m<ipython-input-23-e5d7361a9c2d>\u001b[0m in \u001b[0;36m<module>\u001b[0;34m\u001b[0m\n\u001b[1;32m      4\u001b[0m     \u001b[0mintent\u001b[0m\u001b[0;34m=\u001b[0m\u001b[0;34m'deadlift'\u001b[0m\u001b[0;34m,\u001b[0m\u001b[0;34m\u001b[0m\u001b[0;34m\u001b[0m\u001b[0m\n\u001b[1;32m      5\u001b[0m     examples=[\n\u001b[0;32m----> 6\u001b[0;31m         \u001b[0;34m{\u001b[0m\u001b[0;34m'text'\u001b[0m\u001b[0;34m:\u001b[0m \u001b[0;34m'How do I do a deadlift?'\u001b[0m\u001b[0;34m}\u001b[0m\u001b[0;34m\u001b[0m\u001b[0;34m\u001b[0m\u001b[0m\n\u001b[0m\u001b[1;32m      7\u001b[0m     ]\n\u001b[1;32m      8\u001b[0m ).get_result()\n",
      "\u001b[0;32m/anaconda3/lib/python3.7/site-packages/ibm_watson/assistant_v1.py\u001b[0m in \u001b[0;36mcreate_intent\u001b[0;34m(self, workspace_id, intent, description, examples, **kwargs)\u001b[0m\n\u001b[1;32m    590\u001b[0m             \u001b[0mparams\u001b[0m\u001b[0;34m=\u001b[0m\u001b[0mparams\u001b[0m\u001b[0;34m,\u001b[0m\u001b[0;34m\u001b[0m\u001b[0;34m\u001b[0m\u001b[0m\n\u001b[1;32m    591\u001b[0m             \u001b[0mjson\u001b[0m\u001b[0;34m=\u001b[0m\u001b[0mdata\u001b[0m\u001b[0;34m,\u001b[0m\u001b[0;34m\u001b[0m\u001b[0;34m\u001b[0m\u001b[0m\n\u001b[0;32m--> 592\u001b[0;31m             accept_json=True)\n\u001b[0m\u001b[1;32m    593\u001b[0m         \u001b[0;32mreturn\u001b[0m \u001b[0mresponse\u001b[0m\u001b[0;34m\u001b[0m\u001b[0;34m\u001b[0m\u001b[0m\n\u001b[1;32m    594\u001b[0m \u001b[0;34m\u001b[0m\u001b[0m\n",
      "\u001b[0;32m/anaconda3/lib/python3.7/site-packages/ibm_cloud_sdk_core/base_service.py\u001b[0m in \u001b[0;36mrequest\u001b[0;34m(self, method, url, accept_json, headers, params, json, data, files, **kwargs)\u001b[0m\n\u001b[1;32m    356\u001b[0m                 \u001b[0merror_message\u001b[0m \u001b[0;34m=\u001b[0m \u001b[0;34m'Unauthorized: Access is denied due to '\u001b[0m\u001b[0;31m \u001b[0m\u001b[0;31m\\\u001b[0m\u001b[0;34m\u001b[0m\u001b[0;34m\u001b[0m\u001b[0m\n\u001b[1;32m    357\u001b[0m                                 \u001b[0;34m'invalid credentials'\u001b[0m\u001b[0;34m\u001b[0m\u001b[0;34m\u001b[0m\u001b[0m\n\u001b[0;32m--> 358\u001b[0;31m             \u001b[0;32mraise\u001b[0m \u001b[0mApiException\u001b[0m\u001b[0;34m(\u001b[0m\u001b[0mresponse\u001b[0m\u001b[0;34m.\u001b[0m\u001b[0mstatus_code\u001b[0m\u001b[0;34m,\u001b[0m \u001b[0merror_message\u001b[0m\u001b[0;34m,\u001b[0m \u001b[0mhttp_response\u001b[0m\u001b[0;34m=\u001b[0m\u001b[0mresponse\u001b[0m\u001b[0;34m)\u001b[0m\u001b[0;34m\u001b[0m\u001b[0;34m\u001b[0m\u001b[0m\n\u001b[0m\u001b[1;32m    359\u001b[0m \u001b[0;34m\u001b[0m\u001b[0m\n\u001b[1;32m    360\u001b[0m     \u001b[0;34m@\u001b[0m\u001b[0mstaticmethod\u001b[0m\u001b[0;34m\u001b[0m\u001b[0;34m\u001b[0m\u001b[0m\n",
      "\u001b[0;31mApiException\u001b[0m: Error: Unique Violation: The value \"deadlift\" already exists, Code: 400 , X-global-transaction-id: 7ecac92c5ce4610536167909"
     ]
    }
   ],
   "source": [
    "# Create some intents\n",
    "response1 =service.create_intent(\n",
    "    workspace_id=workspace_id,\n",
    "    intent='deadlift',\n",
    "    examples=[\n",
    "        {'text': 'How do I do a deadlift?'}\n",
    "    ]\n",
    ").get_result()\n",
    "\n",
    "print(json.dumps(response, indent=2))"
   ]
  },
  {
   "cell_type": "code",
   "execution_count": null,
   "metadata": {},
   "outputs": [],
   "source": []
  }
 ],
 "metadata": {
  "kernelspec": {
   "display_name": "Python 3",
   "language": "python",
   "name": "python3"
  },
  "language_info": {
   "codemirror_mode": {
    "name": "ipython",
    "version": 3
   },
   "file_extension": ".py",
   "mimetype": "text/x-python",
   "name": "python",
   "nbconvert_exporter": "python",
   "pygments_lexer": "ipython3",
   "version": "3.7.3"
  }
 },
 "nbformat": 4,
 "nbformat_minor": 2
}
